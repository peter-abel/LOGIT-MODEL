{
  "nbformat": 4,
  "nbformat_minor": 0,
  "metadata": {
    "colab": {
      "provenance": [],
      "collapsed_sections": []
    },
    "kernelspec": {
      "name": "python3",
      "display_name": "Python 3"
    },
    "language_info": {
      "name": "python"
    }
  },
  "cells": [
    {
      "cell_type": "markdown",
      "source": [
        "#BASIC REGRESSION  scr."
      ],
      "metadata": {
        "id": "T45elHEAoHGm"
      }
    },
    {
      "cell_type": "markdown",
      "source": [
        "#The python libraries required for this specific task are shown below"
      ],
      "metadata": {
        "id": "4dmwbxO0jjFc"
      }
    },
    {
      "cell_type": "code",
      "source": [
        "import numpy as np\n",
        "import pandas as pd\n",
        "from sklearn.linear_model import LogisticRegression\n",
        "from sklearn.model_selection import train_test_split\n",
        "from sklearn.metrics import accuracy_score\n",
        "from sklearn.preprocessing import StandardScaler\n",
        "from matplotlib import pyplot as plt"
      ],
      "metadata": {
        "id": "3eIdp97ijlP8"
      },
      "execution_count": 1,
      "outputs": []
    },
    {
      "cell_type": "markdown",
      "source": [
        "#This is how to open the data using pandas module and usecols is used to select specific columns you want to use."
      ],
      "metadata": {
        "id": "jnuTXSVkj19g"
      }
    },
    {
      "cell_type": "code",
      "source": [
        "\n",
        "df = pd.read_csv('/content/diabetes.csv', usecols = ['Glucose','Age', 'Outcome','BloodPressure'])"
      ],
      "metadata": {
        "id": "4rYbc1CDjrLJ"
      },
      "execution_count": 2,
      "outputs": []
    },
    {
      "cell_type": "markdown",
      "source": [
        "\n",
        "#     Uncommenting the code below allows you to visualize the last column \"Outcome\""
      ],
      "metadata": {
        "id": "bcn47ORuka6h"
      }
    },
    {
      "cell_type": "code",
      "source": [
        "df[df.columns[-1]].hist(alpha=0.8, bins= 20, density=True)\n",
        "plt.show()"
      ],
      "metadata": {
        "colab": {
          "base_uri": "https://localhost:8080/",
          "height": 265
        },
        "id": "Q-FJRhpkkDTh",
        "outputId": "a467b3ff-2c9e-4f8d-cf3c-faaa687f5bfc"
      },
      "execution_count": 3,
      "outputs": [
        {
          "output_type": "display_data",
          "data": {
            "text/plain": [
              "<Figure size 432x288 with 1 Axes>"
            ],
            "image/png": "[encoded data removed]"
          },
          "metadata": {
            "needs_background": "light"
          }
        }
      ]
    },
    {
      "cell_type": "markdown",
      "source": [
        "# The .dropna() method is used to drop all the values with empty values before fitting the model "
      ],
      "metadata": {
        "id": "7sWzD2YckRUq"
      }
    },
    {
      "cell_type": "code",
      "source": [
        "df= df.dropna( subset=['Glucose','Age', 'Outcome','BloodPressure'])"
      ],
      "metadata": {
        "id": "SbXC9IBykKoT"
      },
      "execution_count": 4,
      "outputs": []
    },
    {
      "cell_type": "markdown",
      "source": [
        "# splitting the data into features(X) and Target(Y)"
      ],
      "metadata": {
        "id": "EknKqPDNkTif"
      }
    },
    {
      "cell_type": "code",
      "source": [
        "X = df[df.columns[:-1]].values\n",
        "Y = df[[df.columns[-1]]].values"
      ],
      "metadata": {
        "id": "tBlWOt4jko5U"
      },
      "execution_count": 5,
      "outputs": []
    },
    {
      "cell_type": "code",
      "source": [
        "plt_1 = plt.figure(figsize=(10, 5))\n",
        "plt.hist(X)"
      ],
      "metadata": {
        "colab": {
          "base_uri": "https://localhost:8080/",
          "height": 424
        },
        "id": "YvpYftxhmz9f",
        "outputId": "8cc00ab7-860b-4351-8240-217e453ea0b2"
      },
      "execution_count": 10,
      "outputs": [
        {
          "output_type": "execute_result",
          "data": {
            "text/plain": [
              "(array([[  5.,   0.,   4.,  32., 156., 211., 163.,  95.,  56.,  46.],\n",
              "        [ 35.,   4.,  82., 442., 189.,  15.,   1.,   0.,   0.,   0.],\n",
              "        [  0., 561., 175.,  31.,   1.,   0.,   0.,   0.,   0.,   0.]]),\n",
              " array([  0. ,  19.9,  39.8,  59.7,  79.6,  99.5, 119.4, 139.3, 159.2,\n",
              "        179.1, 199. ]),\n",
              " <a list of 3 Lists of Patches objects>)"
            ]
          },
          "metadata": {},
          "execution_count": 10
        },
        {
          "output_type": "display_data",
          "data": {
            "text/plain": [
              "<Figure size 720x360 with 1 Axes>"
            ],
            "image/png": "[encoded data removed]"
          },
          "metadata": {
            "needs_background": "light"
          }
        }
      ]
    },
    {
      "cell_type": "markdown",
      "source": [
        "#instatiating the standard scale"
      ],
      "metadata": {
        "id": "zHvD-i6fktsP"
      }
    },
    {
      "cell_type": "code",
      "source": [
        "scale = StandardScaler()"
      ],
      "metadata": {
        "id": "k81KH8EOkzuq"
      },
      "execution_count": 11,
      "outputs": []
    },
    {
      "cell_type": "markdown",
      "source": [
        "#overcome overfitting and get more accurate results."
      ],
      "metadata": {
        "id": "jjdCfQ5Nk4Gl"
      }
    },
    {
      "cell_type": "code",
      "source": [
        "scaled_x = scale.fit_transform(X)"
      ],
      "metadata": {
        "id": "7w1FQkFOliFS"
      },
      "execution_count": 12,
      "outputs": []
    },
    {
      "cell_type": "markdown",
      "source": [
        "# Splitting the the data into train and test sets."
      ],
      "metadata": {
        "id": "34j4VAJclowf"
      }
    },
    {
      "cell_type": "code",
      "source": [
        "x_test, x_train, y_test, y_train = train_test_split(scaled_x, Y, random_state=0, test_size = .75)\n"
      ],
      "metadata": {
        "id": "P0Tyuw4zlxGh"
      },
      "execution_count": 13,
      "outputs": []
    },
    {
      "cell_type": "markdown",
      "source": [
        "\n",
        "#Instatiating logistic regression"
      ],
      "metadata": {
        "id": "ggT4aPjAl3ui"
      }
    },
    {
      "cell_type": "code",
      "source": [
        "model = LogisticRegression() "
      ],
      "metadata": {
        "id": "EuLyy86XmA_m"
      },
      "execution_count": 14,
      "outputs": []
    },
    {
      "cell_type": "code",
      "source": [
        "# .ravel method changes the shape of y to remove data conversion anormalies\n",
        "model.fit(x_train,y_train.ravel())"
      ],
      "metadata": {
        "colab": {
          "base_uri": "https://localhost:8080/"
        },
        "id": "t2IPjlrFmHwH",
        "outputId": "d6bb02ac-4c31-4c13-89d0-7eed4a4c3a37"
      },
      "execution_count": 15,
      "outputs": [
        {
          "output_type": "execute_result",
          "data": {
            "text/plain": [
              "LogisticRegression()"
            ]
          },
          "metadata": {},
          "execution_count": 15
        }
      ]
    },
    {
      "cell_type": "markdown",
      "source": [
        "#Using the model to predict given our test data feature"
      ],
      "metadata": {
        "id": "M1zDdS9HmNUF"
      }
    },
    {
      "cell_type": "code",
      "source": [
        "predict_test = model.predict(x_test)\n",
        "print(\"Evaluated test_predictions:\", predict_test)"
      ],
      "metadata": {
        "colab": {
          "base_uri": "https://localhost:8080/"
        },
        "id": "s7ZhC-2fmMFp",
        "outputId": "ede0be9c-da23-44b6-9636-054a488f1c0e"
      },
      "execution_count": 16,
      "outputs": [
        {
          "output_type": "stream",
          "name": "stdout",
          "text": [
            "Evaluated test_predictions: [0 1 1 0 0 1 0 0 1 0 0 0 0 1 0 1 0 0 0 0 0 1 0 0 1 0 0 0 1 1 1 0 0 0 1 0 1\n",
            " 0 0 1 0 1 1 0 0 0 0 0 0 0 1 1 0 0 1 0 1 0 0 0 1 0 1 0 0 0 0 0 0 0 1 1 0 0\n",
            " 1 0 0 0 1 1 0 1 0 0 0 1 0 0 0 1 0 0 0 0 0 0 0 0 0 1 0 1 0 1 0 0 0 0 0 1 1\n",
            " 0 0 0 0 0 0 0 0 0 0 1 0 0 0 0 0 0 0 0 0 0 0 0 0 1 1 0 0 0 1 0 0 1 0 1 0 1\n",
            " 0 0 0 0 0 0 0 0 0 0 0 0 0 0 0 0 0 1 0 0 0 1 0 0 0 0 0 0 0 0 0 0 0 1 0 0 0\n",
            " 1 0 0 1 0 0 1]\n"
          ]
        }
      ]
    },
    {
      "cell_type": "markdown",
      "source": [
        "#Determining an accuracy score of the model given our test target"
      ],
      "metadata": {
        "id": "0j4x5HealVNN"
      }
    },
    {
      "cell_type": "code",
      "source": [
        "\n",
        "accuracy_test = accuracy_score(y_test,predict_test)\n",
        "print('accuracy_score on test dataset : ', accuracy_test)\n",
        "from sklearn.metrics import roc_auc_score\n",
        "from sklearn.metrics import roc_curve\n",
        "logit_roc_auc = roc_auc_score(y_test, model.predict(x_test))\n",
        "fpr, tpr, thresholds = roc_curve(y_test, model.predict_proba(x_test)[:,1])\n",
        "plt.figure()\n",
        "plt.plot(fpr, tpr, label='Logistic Regression (area = %0.2f)' % logit_roc_auc)\n",
        "plt.plot([0, 1], [0, 1],'r--')\n",
        "plt.xlim([0.0, 1.0])\n",
        "plt.ylim([0.0, 1.05])\n",
        "plt.xlabel('False Positive Rate')\n",
        "plt.ylabel('True Positive Rate')\n",
        "plt.title('Receiver operating characteristic')\n",
        "plt.legend(loc=\"lower right\")\n",
        "#plt.savefig('ROC_curve')\n",
        "plt.show()"
      ],
      "metadata": {
        "colab": {
          "base_uri": "https://localhost:8080/",
          "height": 312
        },
        "id": "8CVysxA6k9Mn",
        "outputId": "0b240a16-2861-4645-abfb-835fcd74cac0"
      },
      "execution_count": 17,
      "outputs": [
        {
          "output_type": "stream",
          "name": "stdout",
          "text": [
            "accuracy_score on test dataset :  0.734375\n"
          ]
        },
        {
          "output_type": "display_data",
          "data": {
            "text/plain": [
              "<Figure size 432x288 with 1 Axes>"
            ],
            "image/png": "[encoded data removed]"
          },
          "metadata": {
            "needs_background": "light"
          }
        }
      ]
    },
    {
      "cell_type": "markdown",
      "source": [
        "#END!"
      ],
      "metadata": {
        "id": "4t6e2MtEn-VR"
      }
    }
  ]
}
